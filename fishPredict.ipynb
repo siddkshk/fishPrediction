{
  "nbformat": 4,
  "nbformat_minor": 5,
  "metadata": {
    "kernelspec": {
      "display_name": "Python 3",
      "language": "python",
      "name": "python3"
    },
    "language_info": {
      "codemirror_mode": {
        "name": "ipython",
        "version": 3
      },
      "file_extension": ".py",
      "mimetype": "text/x-python",
      "name": "python",
      "nbconvert_exporter": "python",
      "pygments_lexer": "ipython3",
      "version": "3.9.5"
    },
    "colab": {
      "name": "fishPredict.ipynb",
      "provenance": []
    }
  },
  "cells": [
    {
      "cell_type": "code",
      "metadata": {
        "id": "9261987d"
      },
      "source": [
        "import pandas as pd\n",
        "import numpy as np\n",
        "\n",
        "from sklearn.model_selection import train_test_split\n",
        "from sklearn.linear_model import LogisticRegression\n",
        "from sklearn import metrics\n",
        "from sklearn.metrics import accuracy_score\n",
        "from sklearn.preprocessing import StandardScaler, LabelEncoder"
      ],
      "id": "9261987d",
      "execution_count": 1,
      "outputs": []
    },
    {
      "cell_type": "code",
      "metadata": {
        "id": "c764e270"
      },
      "source": [
        "df  = pd.read_csv('Fish.csv')\n",
        "label = LabelEncoder()\n",
        "df['Species'] = label.fit_transform(df['Species'])\n",
        "x = df.drop(['Species'],axis = 1)\n",
        "y = df['Species']\n",
        "X_train, X_test, y_train, y_test = train_test_split(x,y, test_size=0.2, random_state=0)\n",
        "sc = StandardScaler()\n",
        "X_train = sc.fit_transform(X_train)\n",
        "X_test = sc.transform(X_test)"
      ],
      "id": "c764e270",
      "execution_count": 5,
      "outputs": []
    },
    {
      "cell_type": "code",
      "metadata": {
        "colab": {
          "base_uri": "https://localhost:8080/"
        },
        "id": "98c00796",
        "outputId": "5a55de11-53a6-41eb-b33d-1973cd31a874"
      },
      "source": [
        "def models(mod,x_t,y_t,x_tes,y_tes,x_source,y_source):\n",
        "    mod.fit(x_t,y_t)\n",
        "    pred = mod.predict(x_tes)\n",
        "    accuracy = accuracy_score(y_tes,pred)\n",
        "    print(\"Accuracy Is : \",accuracy*100)    \n",
        "    \n",
        "model = LogisticRegression(C=1.0, class_weight=None, dual=False, fit_intercept=True,intercept_scaling=1, l1_ratio=None, \n",
        "                           max_iter=1500,multi_class='auto', n_jobs=None, penalty='l2',random_state=123, solver='lbfgs', \n",
        "                           tol=0.0001, verbose=0,warm_start=False)\n",
        "\n",
        "models(model,X_train,y_train,X_test,y_test,x,y )    "
      ],
      "id": "98c00796",
      "execution_count": 7,
      "outputs": [
        {
          "output_type": "stream",
          "text": [
            "Accuracy Is :  78.125\n"
          ],
          "name": "stdout"
        }
      ]
    },
    {
      "cell_type": "code",
      "metadata": {
        "id": "Fe7e4DBrH6Ls"
      },
      "source": [
        "import pickle\n",
        "pickle_out = open('fish.pkl','wb')\n",
        "pickle.dump(model, pickle_out)\n",
        "pickle_out.close()"
      ],
      "id": "Fe7e4DBrH6Ls",
      "execution_count": 10,
      "outputs": []
    }
  ]
}